{
 "cells": [
  {
   "cell_type": "code",
   "execution_count": 15,
   "metadata": {},
   "outputs": [],
   "source": [
    "results = {\n",
    "    'all': {'caco2_wang': [0.314, 0.025], 'hia_hou': [0.997, 0.003], 'pgp_broccatelli': [0.941, 0.001], 'bioavailability_ma': [0.697, 0.009], 'lipophilicity_astrazeneca': [0.465, 0.004], 'solubility_aqsoldb': [0.752, 0.008], 'bbb_martins': [0.923, 0.001], 'ppbr_az': [9.433, 0.191], 'vdss_lombardo': [0.546, 0.021], 'cyp2d6_veith': [0.720, 0.003], 'cyp3a4_veith': [0.878, 0.002], 'cyp2c9_veith': [0.826, 0.002], 'cyp2d6_substrate_carbonmangels': [0.705, 0.015], 'cyp3a4_substrate_carbonmangels': [0.650, 0.002], 'cyp2c9_substrate_carbonmangels': [0.484, 0.008], 'half_life_obach': [0.460, 0.029], 'clearance_microsome_az': [0.586, 0.015], 'clearance_hepatocyte_az': [0.463, 0.013], 'herg': [0.842, 0.006], 'ames': [0.848, 0.004], 'dili': [0.956, 0.002], 'ld50_zhu': [0.607, 0.008]},\n",
    "    'all (best_val)': {'caco2_wang': [0.350, 0.025], 'hia_hou': [0.993, 0.003], 'pgp_broccatelli': [0.942, 0.001], 'bioavailability_ma': [0.689, 0.009], 'lipophilicity_astrazeneca': [0.456, 0.004], 'solubility_aqsoldb': [0.741, 0.008], 'bbb_martins': [0.924, 0.001], 'ppbr_az': [7.969, 0.191], 'vdss_lombardo': [0.535, 0.021], 'cyp2d6_veith': [0.719, 0.003], 'cyp3a4_veith': [0.877, 0.002], 'cyp2c9_veith': [0.823, 0.002], 'cyp2d6_substrate_carbonmangels': [0.695, 0.015], 'cyp3a4_substrate_carbonmangels': [0.663, 0.002], 'cyp2c9_substrate_carbonmangels': [0.474, 0.008], 'half_life_obach': [0.495, 0.029], 'clearance_microsome_az': [0.628, 0.015], 'clearance_hepatocyte_az': [0.446, 0.013], 'herg': [0.846, 0.006], 'ames': [0.849, 0.004], 'dili': [0.956, 0.002], 'ld50_zhu': [0.585, 0.008]},\n",
    "    'pcba_g25_n4': {'caco2_wang': [0.45, 0.025], 'hia_hou': [0.988, 0.003], 'pgp_broccatelli': [0.942, 0.001], 'bioavailability_ma': [0.717, 0.009], 'lipophilicity_astrazeneca': [0.458, 0.004], 'solubility_aqsoldb': [0.749, 0.008], 'bbb_martins': [0.925, 0.001], 'ppbr_az': [9.105, 0.191], 'vdss_lombardo': [0.495, 0.021], 'cyp2d6_veith': [0.709, 0.003], 'cyp3a4_veith': [0.869, 0.002], 'cyp2c9_veith': [0.818, 0.002], 'cyp2d6_substrate_carbonmangels': [0.707, 0.015], 'cyp3a4_substrate_carbonmangels': [0.647, 0.002], 'cyp2c9_substrate_carbonmangels': [0.423, 0.008], 'half_life_obach': [0.24, 0.029], 'clearance_microsome_az': [0.585, 0.015], 'clearance_hepatocyte_az': [0.44, 0.013], 'herg': [0.854, 0.006], 'ames': [0.842, 0.004], 'dili': [0.95, 0.002], 'ld50_zhu': [0.606, 0.008]},\n",
    "    'pcba': {'caco2_wang': [0.322, 0.005], 'hia_hou': [0.976, 0.004], 'pgp_broccatelli': [0.948, 0.003], 'bioavailability_ma': [0.691, 0.022], 'lipophilicity_astrazeneca': [0.493, 0.003], 'solubility_aqsoldb': [0.797, 0.004], 'bbb_martins': [0.93, 0.003], 'ppbr_az': [9.084, 0.117], 'vdss_lombardo': [0.485, 0.017], 'cyp2d6_veith': [0.691, 0.003], 'cyp3a4_veith': [0.866, 0.003], 'cyp2c9_veith': [0.815, 0.003], 'cyp2d6_substrate_carbonmangels': [0.734, 0.008], 'cyp3a4_substrate_carbonmangels': [0.698, 0.007], 'cyp2c9_substrate_carbonmangels': [0.432, 0.005], 'half_life_obach': [0.418, 0.01], 'clearance_microsome_az': [0.587, 0.022], 'clearance_hepatocyte_az': [0.419, 0.016], 'herg': [0.864, 0.013], 'ames': [0.831, 0.002], 'dili': [0.932, 0.011], 'ld50_zhu': [0.632, 0.006]},\n",
    "    'pcba_n4': {'caco2_wang': [0.344, 0.009], 'hia_hou': [0.988, 0.0], 'pgp_broccatelli': [0.954, 0.002], 'bioavailability_ma': [0.673, 0.015], 'lipophilicity_astrazeneca': [0.468, 0.003], 'solubility_aqsoldb': [0.767, 0.01], 'bbb_martins': [0.925, 0.007], 'ppbr_az': [8.892, 0.163], 'vdss_lombardo': [0.506, 0.04], 'cyp2d6_veith': [0.72, 0.0], 'cyp3a4_veith': [0.884, 0.001], 'cyp2c9_veith': [0.803, 0.001], 'cyp2d6_substrate_carbonmangels': [0.697, 0.002], 'cyp3a4_substrate_carbonmangels': [0.669, 0.017], 'cyp2c9_substrate_carbonmangels': [0.448, 0.028], 'half_life_obach': [0.338, 0.038], 'clearance_microsome_az': [0.588, 0.005], 'clearance_hepatocyte_az': [0.416, 0.029], 'herg': [0.857, 0.004], 'ames': [0.859, 0.002], 'dili': [0.941, 0.009], 'ld50_zhu': [0.571, 0.007]},\n",
    "    'pcba_l1000s': {'caco2_wang': [0.399, 0.013], 'hia_hou': [0.967, 0.007], 'pgp_broccatelli': [0.936, 0.001], 'bioavailability_ma': [0.672, 0.02], 'lipophilicity_astrazeneca': [0.509, 0.005], 'solubility_aqsoldb': [0.815, 0.006], 'bbb_martins': [0.913, 0.006], 'ppbr_az': [9.341, 0.132], 'vdss_lombardo': [0.608, 0.018], 'cyp2d6_veith': [0.7, 0.006], 'cyp3a4_veith': [0.858, 0.003], 'cyp2c9_veith': [0.803, 0.001], 'cyp2d6_substrate_carbonmangels': [0.767, 0.004], 'cyp3a4_substrate_carbonmangels': [0.691, 0.007], 'cyp2c9_substrate_carbonmangels': [0.46, 0.025], 'half_life_obach': [0.425, 0.002], 'clearance_microsome_az': [0.622, 0.008], 'clearance_hepatocyte_az': [0.425, 0.016], 'herg': [0.869, 0.005], 'ames': [0.822, 0.003], 'dili': [0.91, 0.007], 'ld50_zhu': [0.631, 0.009]},\n",
    "    'l1000s': {'caco2_wang': [0.529, 0.021], 'hia_hou': [0.777, 0.019], 'pgp_broccatelli': [0.845, 0.01], 'bioavailability_ma': [0.648, 0.012], 'lipophilicity_astrazeneca': [0.956, 0.008], 'solubility_aqsoldb': [1.302, 0.015], 'bbb_martins': [0.765, 0.01], 'ppbr_az': [12.207, 0.083], 'vdss_lombardo': [0.314, 0.026], 'cyp2d6_veith': [0.402, 0.005], 'cyp3a4_veith': [0.628, 0.003], 'cyp2c9_veith': [0.539, 0.002], 'cyp2d6_substrate_carbonmangels': [0.549, 0.043], 'cyp3a4_substrate_carbonmangels': [0.538, 0.016], 'cyp2c9_substrate_carbonmangels': [0.403, 0.033], 'half_life_obach': [0.14, 0.053], 'clearance_microsome_az': [0.164, 0.051], 'clearance_hepatocyte_az': [0.185, 0.016], 'herg': [0.756, 0.039], 'ames': [0.616, 0.008], 'dili': [0.766, 0.037], 'ld50_zhu': [0.776, 0.004]},\n",
    "    'l1000s_pcba_n4': {'caco2_wang': [0.314, 0.006], 'hia_hou': [0.986, 0.001], 'pgp_broccatelli': [0.943, 0.002], 'bioavailability_ma': [0.643, 0.002], 'lipophilicity_astrazeneca': [0.455, 0.0], 'solubility_aqsoldb': [0.756, 0.007], 'bbb_martins': [0.916, 0.004], 'ppbr_az': [9.176, 0.211], 'vdss_lombardo': [0.548, 0.009], 'cyp2d6_veith': [0.693, 0.003], 'cyp3a4_veith': [0.873, 0.002], 'cyp2c9_veith': [0.816, 0.003], 'cyp2d6_substrate_carbonmangels': [0.726, 0.009], 'cyp3a4_substrate_carbonmangels': [0.674, 0.004], 'cyp2c9_substrate_carbonmangels': [0.434, 0.009], 'half_life_obach': [0.362, 0.027], 'clearance_microsome_az': [0.596, 0.01], 'clearance_hepatocyte_az': [0.4, 0.003], 'herg': [0.877, 0.009], 'ames': [0.854, 0.002], 'dili': [0.927, 0.006], 'ld50_zhu': [0.594, 0.004]},\n",
    "    'l1000s_pcba_g25': {'caco2_wang': [0.389, 0.013], 'hia_hou': [0.988, 0.002], 'pgp_broccatelli': [0.935, 0.002], 'bioavailability_ma': [0.643, 0.01], 'lipophilicity_astrazeneca': [0.473, 0.004], 'solubility_aqsoldb': [0.787, 0.01], 'bbb_martins': [0.912, 0.005], 'ppbr_az': [9.283, 0.027], 'vdss_lombardo': [0.508, 0.019], 'cyp2d6_veith': [0.728, 0.003], 'cyp3a4_veith': [0.878, 0.001], 'cyp2c9_veith': [0.816, 0.003], 'cyp2d6_substrate_carbonmangels': [0.699, 0.008], 'cyp3a4_substrate_carbonmangels': [0.657, 0.006], 'cyp2c9_substrate_carbonmangels': [0.445, 0.006], 'half_life_obach': [0.354, 0.015], 'clearance_microsome_az': [0.59, 0.011], 'clearance_hepatocyte_az': [0.476, 0.008], 'herg': [0.863, 0.006], 'ames': [0.829, 0.004], 'dili': [0.939, 0.003], 'ld50_zhu': [0.614, 0.004]},\n",
    "    'g25_n4': {'caco2_wang': [0.332, 0.007], 'hia_hou': [0.962, 0.005], 'pgp_broccatelli': [0.934, 0.002], 'bioavailability_ma': [0.67, 0.012], 'lipophilicity_astrazeneca': [0.573, 0.005], 'solubility_aqsoldb': [0.791, 0.004], 'bbb_martins': [0.903, 0.004], 'ppbr_az': [9.622, 0.265], 'vdss_lombardo': [0.472, 0.033], 'cyp2d6_veith': [0.67, 0.004], 'cyp3a4_veith': [0.864, 0.003], 'cyp2c9_veith': [0.77, 0.003], 'cyp2d6_substrate_carbonmangels': [0.651, 0.01], 'cyp3a4_substrate_carbonmangels': [0.653, 0.005], 'cyp2c9_substrate_carbonmangels': [0.442, 0.011], 'half_life_obach': [0.246, 0.003], 'clearance_microsome_az': [0.55, 0.017], 'clearance_hepatocyte_az': [0.319, 0.011], 'herg': [0.86, 0.011], 'ames': [0.83, 0.002], 'dili': [0.95, 0.006], 'ld50_zhu': [0.612, 0.003]}\n",
    "}\n",
    "\n",
    "metrics = {\n",
    "    'caco2_wang': 'mae',\n",
    "    'hia_hou': 'auroc',\n",
    "    'pgp_broccatelli': 'auroc',\n",
    "    'bioavailability_ma': 'auroc',\n",
    "    'lipophilicity_astrazeneca': 'mae',\n",
    "    'solubility_aqsoldb': 'mae',\n",
    "    'bbb_martins': 'auroc',\n",
    "    'ppbr_az': 'mae',\n",
    "    'vdss_lombardo': 'spearman',\n",
    "    'cyp2d6_veith': 'avpr',\n",
    "    'cyp3a4_veith': 'avpr',\n",
    "    'cyp2c9_veith': 'avpr',\n",
    "    'cyp2d6_substrate_carbonmangels': 'avpr',\n",
    "    'cyp3a4_substrate_carbonmangels': 'auroc',\n",
    "    'cyp2c9_substrate_carbonmangels': 'avpr',\n",
    "    'half_life_obach': 'spearman',\n",
    "    'clearance_microsome_az': 'spearman',\n",
    "    'clearance_hepatocyte_az': 'spearman',\n",
    "    'herg': 'auroc',\n",
    "    'ames': 'auroc',\n",
    "    'dili': 'auroc',\n",
    "    'ld50_zhu': 'mae'\n",
    "}"
   ]
  },
  {
   "cell_type": "code",
   "execution_count": 18,
   "metadata": {},
   "outputs": [
    {
     "name": "stdout",
     "output_type": "stream",
     "text": [
      "                                  all  all (best_val)  pcba_g25_n4   pcba  pcba_n4  pcba_l1000s  l1000s  l1000s_pcba_n4  l1000s_pcba_g25  g25_n4    metric\n",
      "caco2_wang                      0.314           0.350        0.450  0.322    0.344        0.399   0.529           0.314            0.389   0.332       mae\n",
      "hia_hou                         0.997           0.993        0.988  0.976    0.988        0.967   0.777           0.986            0.988   0.962     auroc\n",
      "pgp_broccatelli                 0.941           0.942        0.942  0.948    0.954        0.936   0.845           0.943            0.935   0.934     auroc\n",
      "bioavailability_ma              0.697           0.689        0.717  0.691    0.673        0.672   0.648           0.643            0.643   0.670     auroc\n",
      "lipophilicity_astrazeneca       0.465           0.456        0.458  0.493    0.468        0.509   0.956           0.455            0.473   0.573       mae\n",
      "solubility_aqsoldb              0.752           0.741        0.749  0.797    0.767        0.815   1.302           0.756            0.787   0.791       mae\n",
      "bbb_martins                     0.923           0.924        0.925  0.930    0.925        0.913   0.765           0.916            0.912   0.903     auroc\n",
      "ppbr_az                         9.433           7.969        9.105  9.084    8.892        9.341  12.207           9.176            9.283   9.622       mae\n",
      "vdss_lombardo                   0.546           0.535        0.495  0.485    0.506        0.608   0.314           0.548            0.508   0.472  spearman\n",
      "cyp2d6_veith                    0.720           0.719        0.709  0.691    0.720        0.700   0.402           0.693            0.728   0.670      avpr\n",
      "cyp3a4_veith                    0.878           0.877        0.869  0.866    0.884        0.858   0.628           0.873            0.878   0.864      avpr\n",
      "cyp2c9_veith                    0.826           0.823        0.818  0.815    0.803        0.803   0.539           0.816            0.816   0.770      avpr\n",
      "cyp2d6_substrate_carbonmangels  0.705           0.695        0.707  0.734    0.697        0.767   0.549           0.726            0.699   0.651      avpr\n",
      "cyp3a4_substrate_carbonmangels  0.650           0.663        0.647  0.698    0.669        0.691   0.538           0.674            0.657   0.653     auroc\n",
      "cyp2c9_substrate_carbonmangels  0.484           0.474        0.423  0.432    0.448        0.460   0.403           0.434            0.445   0.442      avpr\n",
      "half_life_obach                 0.460           0.495        0.240  0.418    0.338        0.425   0.140           0.362            0.354   0.246  spearman\n",
      "clearance_microsome_az          0.586           0.628        0.585  0.587    0.588        0.622   0.164           0.596            0.590   0.550  spearman\n",
      "clearance_hepatocyte_az         0.463           0.446        0.440  0.419    0.416        0.425   0.185           0.400            0.476   0.319  spearman\n",
      "herg                            0.842           0.846        0.854  0.864    0.857        0.869   0.756           0.877            0.863   0.860     auroc\n",
      "ames                            0.848           0.849        0.842  0.831    0.859        0.822   0.616           0.854            0.829   0.830     auroc\n",
      "dili                            0.956           0.956        0.950  0.932    0.941        0.910   0.766           0.927            0.939   0.950     auroc\n",
      "ld50_zhu                        0.607           0.585        0.606  0.632    0.571        0.631   0.776           0.594            0.614   0.612       mae\n"
     ]
    }
   ],
   "source": [
    "import pandas as pd\n",
    "\n",
    "pd.set_option('display.max_columns', None)\n",
    "pd.set_option('display.max_colwidth', None) \n",
    "pd.set_option('display.width', 1000)  \n",
    "\n",
    "means = {outer_key: {inner_key: values[0] for inner_key, values in inner_dict.items()}\n",
    "         for outer_key, inner_dict in results.items()}\n",
    "\n",
    "df = pd.DataFrame(means)\n",
    "df['metric'] = df.index.map(metrics)\n",
    "\n",
    "print(df)"
   ]
  },
  {
   "cell_type": "code",
   "execution_count": 21,
   "metadata": {},
   "outputs": [
    {
     "name": "stdout",
     "output_type": "stream",
     "text": [
      "                               all all (best_val) pcba_g25_n4 pcba pcba_n4 pcba_l1000s l1000s l1000s_pcba_n4 l1000s_pcba_g25 g25_n4\n",
      "caco2_wang                       1              6           9    3       5           8     10              1               7      4\n",
      "hia_hou                          1              2           3    7       3           8     10              6               3      9\n",
      "pgp_broccatelli                  6              4           4    2       1           7     10              3               8      9\n",
      "bioavailability_ma               2              4           1    3       5           6      8              9               9      7\n",
      "lipophilicity_astrazeneca        4              2           3    7       5           8     10              1               6      9\n",
      "solubility_aqsoldb               3              1           2    8       5           9     10              4               6      7\n",
      "bbb_martins                      5              4           2    1       2           7     10              6               8      9\n",
      "ppbr_az                          8              1           4    3       2           7     10              5               6      9\n",
      "vdss_lombardo                    3              4           7    8       6           1     10              2               5      9\n",
      "cyp2d6_veith                     2              4           5    8       2           6     10              7               1      9\n",
      "cyp3a4_veith                     2              4           6    7       1           9     10              5               2      8\n",
      "cyp2c9_veith                     1              2           3    6       7           7     10              4               4      9\n",
      "cyp2d6_substrate_carbonmangels   5              8           4    2       7           1     10              3               6      9\n",
      "cyp3a4_substrate_carbonmangels   8              5           9    1       4           2     10              3               6      7\n",
      "cyp2c9_substrate_carbonmangels   1              2           9    8       4           3     10              7               5      6\n",
      "half_life_obach                  2              1           9    4       7           3     10              5               6      8\n",
      "clearance_microsome_az           7              1           8    6       5           2     10              3               4      9\n",
      "clearance_hepatocyte_az          2              3           4    6       7           5     10              8               1      9\n",
      "herg                             9              8           7    3       6           2     10              1               4      5\n",
      "ames                             4              3           5    6       1           9     10              2               8      7\n",
      "dili                             1              1           3    7       5           9     10              8               6      3\n",
      "ld50_zhu                         5              2           4    9       1           8     10              3               7      6\n"
     ]
    }
   ],
   "source": [
    "ranks = pd.DataFrame(index=df.index, columns=df.columns[:-1])\n",
    "\n",
    "for index, row in df.iterrows():\n",
    "    metric = metrics[index]\n",
    "    if metric == 'mae':\n",
    "        ranks.loc[index] = row[:-1].rank(ascending=True, method='min').astype(int)\n",
    "    else:\n",
    "        ranks.loc[index] = row[:-1].rank(ascending=False, method='min').astype(int)\n",
    "\n",
    "print(ranks)"
   ]
  },
  {
   "cell_type": "code",
   "execution_count": 34,
   "metadata": {},
   "outputs": [
    {
     "name": "stdout",
     "output_type": "stream",
     "text": [
      "\n",
      "Mean rank:\n",
      "{\n",
      "     \"all (best_val)\": 3.273,\n",
      "     \"all\": 3.727,\n",
      "     \"pcba_n4\": 4.136,\n",
      "     \"l1000s_pcba_n4\": 4.364,\n",
      "     \"pcba_g25_n4\": 5.045,\n",
      "     \"pcba\": 5.227,\n",
      "     \"l1000s_pcba_g25\": 5.364,\n",
      "     \"pcba_l1000s\": 5.773,\n",
      "     \"g25_n4\": 7.591,\n",
      "     \"l1000s\": 9.909\n",
      "}\n",
      "- all experiments, apart from \"all (best_val)\" used the same default hparam config across 22 downstream datasets\n",
      "\n"
     ]
    }
   ],
   "source": [
    "import json\n",
    "\n",
    "mean_ranks = ranks.mean(axis=0)\n",
    "mean_ranks_dict = {column: float(f\"{value:.3f}\") for column, value in sorted(mean_ranks.items(), key=lambda item: item[1])}\n",
    "print(f\"\"\"\n",
    "Mean rank:\n",
    "{json.dumps(mean_ranks_dict, indent=5)}\n",
    "- all experiments, apart from \"all (best_val)\" used the same default hparam config across 22 downstream datasets\n",
    "- lowest total val loss checkpoint\n",
    "\"\"\")\n"
   ]
  }
 ],
 "metadata": {
  "kernelspec": {
   "display_name": "minimol",
   "language": "python",
   "name": "python3"
  },
  "language_info": {
   "codemirror_mode": {
    "name": "ipython",
    "version": 3
   },
   "file_extension": ".py",
   "mimetype": "text/x-python",
   "name": "python",
   "nbconvert_exporter": "python",
   "pygments_lexer": "ipython3",
   "version": "3.10.12"
  }
 },
 "nbformat": 4,
 "nbformat_minor": 2
}
