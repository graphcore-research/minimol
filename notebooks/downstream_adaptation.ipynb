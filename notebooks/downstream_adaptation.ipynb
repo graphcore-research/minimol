{
 "cells": [
  {
   "cell_type": "markdown",
   "metadata": {},
   "source": [
    "# Downstream adaption with MiniMol\n",
    "\n",
    "This example shows how MiniMol can featurise small molecules that will then serve as an input to another model trained on a small downstream dataset from TDC ADMET. This allows to transfer the knowledge from the pre-trained MiniMol to another task. \n",
    "\n",
    "Before we start, let's make sure that the TDC package is installed in the environment. The package is quite large, and we assume that a user wouldn't necesserily need it in their work, that's why we don't include it in the dependencies."
   ]
  },
  {
   "cell_type": "code",
   "execution_count": 1,
   "metadata": {},
   "outputs": [],
   "source": [
    "# change cuXXX to the cuda driver version installed on your machine\n",
    "%pip install torch-sparse torch-cluster torch-scatter -f https://pytorch-geometric.com/whl/torch-2.3.0+cu121.html\n",
    "%pip install hydra-core\n",
    "%pip install graphium==2.4.7\n",
    "%pip install minimol\n",
    "%pip install pytdc"
   ]
  },
  {
   "cell_type": "markdown",
   "metadata": {},
   "source": [
    "## Step 1: Getting the data\n",
    "Next, we will build a predictor for the `HIA Hou` dataset, one of the binary classification benchmarks from TDC ADMET group. HIA stands for human intestinal absorption (HIA), which is related to the ability to absorb a substance through the gastrointestinal system into the bloodstream of the human body.\n",
    "\n",
    "We then split the data based on molecular scaffolds into training, validation and test sets. "
   ]
  },
  {
   "cell_type": "code",
   "execution_count": 2,
   "metadata": {},
   "outputs": [
    {
     "name": "stderr",
     "output_type": "stream",
     "text": [
      "Found local copy...\n",
      "generating training, validation splits...\n",
      "generating training, validation splits...\n",
      "100%|██████████| 461/461 [00:00<00:00, 3648.38it/s]\n"
     ]
    }
   ],
   "source": [
    "from tdc.benchmark_group import admet_group\n",
    "\n",
    "DATASET_NAME = 'HIA_Hou'\n",
    "\n",
    "admet = admet_group(path=\"admet-data/\")\n",
    "\n",
    "mols_test = admet.get(DATASET_NAME)['test']\n",
    "mols_train, mols_val = admet.get_train_valid_split(benchmark=DATASET_NAME, split_type='scaffold', seed=42)"
   ]
  },
  {
   "cell_type": "code",
   "execution_count": 3,
   "metadata": {},
   "outputs": [
    {
     "name": "stdout",
     "output_type": "stream",
     "text": [
      "Dataset - HIA_Hou\n",
      "\n",
      "Val split (58 mols): \n",
      "                 Drug_ID                                               Drug  Y\n",
      "0         Atracurium.mol  COc1ccc(C[C@H]2c3cc(OC)c(OC)cc3CC[N@@+]2(C)CCC...  0\n",
      "1  Succinylsulfathiazole          O=C(O)CCC(=O)Nc1ccc(S(=O)(=O)Nc2nccs2)cc1  0\n",
      "2            Ticarcillin  CC1(C)S[C@H]2[C@@H](NC(=O)[C@@H](C(=O)O)c3ccsc...  0\n",
      "3          Raffinose.mol  OC[C@@H]1O[C@@H](OC[C@@H]2O[C@@H](O[C@]3(CO)O[...  0\n",
      "4          Triamcinolone  C[C@@]12C=CC(=O)C=C1CC[C@@H]1[C@H]3C[C@@H](O)[...  1\n",
      "\n",
      "Test split (117 mols): \n",
      "                Drug_ID                                               Drug  Y\n",
      "0         Trazodone.mol         O=c1n(CCCN2CCN(c3cccc(Cl)c3)CC2)nc2ccccn12  1\n",
      "1          Lisuride.mol  CCN(CC)C(=O)N[C@H]1C=C2c3cccc4[nH]cc(c34)C[C@@...  1\n",
      "2  Methylergonovine.mol  CC[C@H](CO)NC(=O)[C@H]1C=C2c3cccc4[nH]cc(c34)C...  1\n",
      "3      Methysergide.mol  CC[C@H](CO)NC(=O)[C@H]1C=C2c3cccc4c3c(cn4C)C[C...  1\n",
      "4       Moclobemide.mol                       O=C(NCCN1CCOCC1)c1ccc(Cl)cc1  1\n",
      "\n",
      "Train split (403 mols): \n",
      "           Drug_ID                                               Drug  Y\n",
      "0        Guanadrel                      N=C(N)NC[C@@H]1COC2(CCCCC2)O1  1\n",
      "1      Cefmetazole  CO[C@@]1(NC(=O)CSCC#N)C(=O)N2C(C(=O)O)=C(CSc3n...  0\n",
      "2   Zonisamide.mol                           NS(=O)(=O)Cc1noc2ccccc12  1\n",
      "3   Furosemide.mol            NS(=O)(=O)c1cc(Cl)cc(NCc2ccco2)c1C(=O)O  1\n",
      "4  Telmisartan.mol  CCCc1nc2c(n1Cc1ccc(-c3ccccc3C(=O)O)cc1)=C[C@H]...  1\n",
      "\n"
     ]
    }
   ],
   "source": [
    "print(f\"Dataset - {DATASET_NAME}\\n\")\n",
    "print(f\"Val split ({len(mols_val)} mols): \\n{mols_val.head()}\\n\")\n",
    "print(f\"Test split ({len(mols_test)} mols): \\n{mols_test.head()}\\n\")\n",
    "print(f\"Train split ({len(mols_train)} mols): \\n{mols_train.head()}\\n\")"
   ]
  },
  {
   "cell_type": "markdown",
   "metadata": {},
   "source": [
    "## Step 2: Generating molecular fingerprints\n",
    "Now that we have the splits, we will use MiniMol to embed all molecules. The embedding will be added as an extra column in the dataframe returned by TDC."
   ]
  },
  {
   "cell_type": "code",
   "execution_count": null,
   "metadata": {},
   "outputs": [],
   "source": [
    "from minimol import Minimol\n",
    "\n",
    "featuriser = Minimol()"
   ]
  },
  {
   "cell_type": "code",
   "execution_count": 3,
   "metadata": {},
   "outputs": [
    {
     "name": "stderr",
     "output_type": "stream",
     "text": [
      "100%|██████████| 12/12 [00:25<00:00,  2.14s/it]\n",
      "100%|██████████| 24/24 [00:01<00:00, 14.06it/s]\n",
      "100%|██████████| 81/81 [00:05<00:00, 13.51it/s]\n"
     ]
    }
   ],
   "source": [
    "mols_val['Embedding'] = featuriser(list(mols_val['Drug']))\n",
    "mols_test['Embedding'] = featuriser(list(mols_test['Drug']))\n",
    "mols_train['Embedding'] = featuriser(list(mols_train['Drug']))"
   ]
  },
  {
   "cell_type": "markdown",
   "metadata": {},
   "source": [
    "The model is small, so it took us 6.6 seconds to generate the embeddings for almost 600 molecules. Here is a preview after the new column has been added:"
   ]
  },
  {
   "cell_type": "code",
   "execution_count": 6,
   "metadata": {},
   "outputs": [
    {
     "name": "stdout",
     "output_type": "stream",
     "text": [
      "           Drug_ID                                               Drug  Y  \\\n",
      "0        Guanadrel                      N=C(N)NC[C@@H]1COC2(CCCCC2)O1  1   \n",
      "1      Cefmetazole  CO[C@@]1(NC(=O)CSCC#N)C(=O)N2C(C(=O)O)=C(CSc3n...  0   \n",
      "2   Zonisamide.mol                           NS(=O)(=O)Cc1noc2ccccc12  1   \n",
      "3   Furosemide.mol            NS(=O)(=O)c1cc(Cl)cc(NCc2ccco2)c1C(=O)O  1   \n",
      "4  Telmisartan.mol  CCCc1nc2c(n1Cc1ccc(-c3ccccc3C(=O)O)cc1)=C[C@H]...  1   \n",
      "\n",
      "                                           Embedding  \n",
      "0  [tensor(0.2477), tensor(0.1814), tensor(0.4020...  \n",
      "1  [tensor(0.7070), tensor(0.4123), tensor(1.0127...  \n",
      "2  [tensor(0.1878), tensor(-0.1408), tensor(0.891...  \n",
      "3  [tensor(0.1206), tensor(0.3858), tensor(1.5851...  \n",
      "4  [tensor(1.0168), tensor(1.1367), tensor(2.2483...  \n"
     ]
    }
   ],
   "source": [
    "print(mols_train.head())"
   ]
  },
  {
   "cell_type": "markdown",
   "metadata": {},
   "source": [
    "## Step 3: Training a model\n",
    "Now that the molecules are featurised leverging the representation MiniMol learned during its pre-training, we will set up a training and evaluation loop of a simple Multi-Layer Perceptron model using PyTorch.\n",
    "\n",
    "Let's start by defining a new class for the dataset and then creating a separate dataloader for each split."
   ]
  },
  {
   "cell_type": "code",
   "execution_count": 7,
   "metadata": {},
   "outputs": [],
   "source": [
    "from torch.utils.data import DataLoader, Dataset\n",
    "    \n",
    "class AdmetDataset(Dataset):\n",
    "    def __init__(self, samples):\n",
    "        self.samples = samples['Embedding'].tolist()\n",
    "        self.targets = [float(target) for target in samples['Y'].tolist()]\n",
    "\n",
    "    def __len__(self):\n",
    "        return len(self.samples)\n",
    "\n",
    "    def __getitem__(self, idx):\n",
    "        sample = torch.tensor(self.samples[idx])\n",
    "        target = torch.tensor(self.targets[idx])\n",
    "        return sample, target\n",
    "\n",
    "val_loader = DataLoader(AdmetDataset(mols_val), batch_size=128, shuffle=False)\n",
    "test_loader = DataLoader(AdmetDataset(mols_test), batch_size=128, shuffle=False)\n",
    "train_loader = DataLoader(AdmetDataset(mols_train), batch_size=32, shuffle=True)"
   ]
  },
  {
   "cell_type": "markdown",
   "metadata": {},
   "source": [
    "Our model is a simple 3-layer perceptron with batch normalisation and dropout. We also add a residual connection that before the last layer concatates the the input features with the output from the second to last layer."
   ]
  },
  {
   "cell_type": "code",
   "execution_count": 24,
   "metadata": {},
   "outputs": [],
   "source": [
    "import torch.nn as nn\n",
    "import torch.nn.functional as F\n",
    "\n",
    "\n",
    "class TaskHead(nn.Module):\n",
    "    def __init__(self):\n",
    "        super(TaskHead, self).__init__()\n",
    "        self.dense1 = nn.Linear(512, 512)\n",
    "        self.dense2 = nn.Linear(512, 512)\n",
    "        self.final_dense = nn.Linear(1024, 1)\n",
    "        self.bn1 = nn.BatchNorm1d(512)\n",
    "        self.bn2 = nn.BatchNorm1d(512)\n",
    "        self.dropout = nn.Dropout(0.10)\n",
    "\n",
    "    def forward(self, x):\n",
    "        original_x = x\n",
    "\n",
    "        x = self.dense1(x)\n",
    "        x = self.bn1(x)\n",
    "        x = F.relu(x)\n",
    "        x = self.dropout(x)\n",
    "\n",
    "        x = self.dense2(x)\n",
    "        x = self.bn2(x)\n",
    "        x = F.relu(x)\n",
    "        x = self.dropout(x)\n",
    "\n",
    "        x = torch.cat((x, original_x), dim=1)\n",
    "        x = self.final_dense(x)\n",
    "        \n",
    "        return x"
   ]
  },
  {
   "cell_type": "markdown",
   "metadata": {},
   "source": [
    "Below we declare the basic hyperparamters, optimiser, loss function and learning rate scheduler. We build a model factory that allows us to instatiate a fresh copy of everything, which will become useful later."
   ]
  },
  {
   "cell_type": "code",
   "execution_count": 22,
   "metadata": {},
   "outputs": [],
   "source": [
    "import math\n",
    "import torch.nn as nn\n",
    "import torch.optim as optim\n",
    "from torch.optim.lr_scheduler import LambdaLR\n",
    "\n",
    "lr = 0.0003\n",
    "epochs = 25\n",
    "warmup = 5\n",
    "\n",
    "loss_fn = nn.BCELoss()\n",
    "\n",
    "def model_factory():\n",
    "    model = TaskHead()\n",
    "    optimiser = optim.Adam(model.parameters(), lr=lr, weight_decay=0.0001)\n",
    "    \n",
    "    def lr_fn(epoch):\n",
    "        if epoch < warmup: return epoch / warmup\n",
    "        else: return (1 + math.cos(math.pi * (epoch - warmup) / (epochs - warmup))) / 2\n",
    "\n",
    "    lr_scheduler = LambdaLR(optimiser, lr_lambda=lr_fn)\n",
    "    return model, optimiser, lr_scheduler"
   ]
  },
  {
   "cell_type": "markdown",
   "metadata": {},
   "source": [
    "For evaluation we will use both AUROC and Average Precision metrics. The reported loss would be an average across all samples in the epoch."
   ]
  },
  {
   "cell_type": "code",
   "execution_count": 25,
   "metadata": {},
   "outputs": [],
   "source": [
    "import torch\n",
    "from sklearn.metrics import roc_auc_score, average_precision_score\n",
    "\n",
    "def evaluate(predictor, dataloader, loss_fn):\n",
    "    predictor.eval()\n",
    "    total_loss = 0\n",
    "    all_probs = []\n",
    "    all_targets = []\n",
    "\n",
    "    with torch.no_grad():\n",
    "        for inputs, targets in dataloader:\n",
    "            probs = torch.sigmoid(predictor(inputs).squeeze())\n",
    "            loss = loss_fn(probs, targets)\n",
    "            total_loss += loss.item()\n",
    "            all_probs.extend(probs.tolist())\n",
    "            all_targets.extend(targets.tolist())\n",
    "\n",
    "    loss = total_loss / len(all_probs)\n",
    "    \n",
    "    return (\n",
    "        loss,\n",
    "        roc_auc_score(all_targets, all_probs),\n",
    "        average_precision_score(all_targets, all_probs)\n",
    "    )"
   ]
  },
  {
   "cell_type": "markdown",
   "metadata": {},
   "source": [
    "Training is a rather standard boilerplate loop: "
   ]
  },
  {
   "cell_type": "code",
   "execution_count": 26,
   "metadata": {},
   "outputs": [],
   "source": [
    "def train_one_epoch(predictor, train_loader, val_loader, optimiser, lr_scheduler, loss_fn, epoch, eval=True):\n",
    "    predictor.train()        \n",
    "    train_loss = 0\n",
    "    \n",
    "    lr_scheduler.step(epoch)\n",
    "    \n",
    "    for inputs, targets in train_loader:\n",
    "        optimiser.zero_grad()\n",
    "        probs = torch.sigmoid(predictor(inputs).squeeze())\n",
    "        loss = loss_fn(probs, targets)\n",
    "        loss.backward()\n",
    "        optimiser.step()\n",
    "        train_loss += loss.item()\n",
    "\n",
    "    train_loss /= (len(train_loader) * train_loader.batch_size)\n",
    "\n",
    "    if eval:\n",
    "        val_loss, auroc, avpr = evaluate(predictor, val_loader, loss_fn)\n",
    "        print(\n",
    "            f\"## Epoch {epoch+1}\\t\"\n",
    "            f\"train_loss: {train_loss:.4f}\\t\"\n",
    "            f\"val_loss: {val_loss:.4f}\\t\"\n",
    "            f\"val_auroc: {auroc:.4f}\\t\"\n",
    "            f\"val_avpr: {avpr:.4f}\"\n",
    "        )\n",
    "    return predictor"
   ]
  },
  {
   "cell_type": "markdown",
   "metadata": {},
   "source": [
    "And now, let's see how good our model gets after training... 🚀"
   ]
  },
  {
   "cell_type": "code",
   "execution_count": 27,
   "metadata": {},
   "outputs": [
    {
     "name": "stdout",
     "output_type": "stream",
     "text": [
      "## Epoch 0\ttrain_loss: ------\tval_loss: 0.0132\tval_auroc: 0.6979\tval_avpr: 0.9076\n",
      "## Epoch 1\ttrain_loss: 0.0208\tval_loss: 0.0131\tval_auroc: 0.6479\tval_avpr: 0.8884\n",
      "## Epoch 2\ttrain_loss: 0.0183\tval_loss: 0.0102\tval_auroc: 0.7792\tval_avpr: 0.9384\n",
      "## Epoch 3\ttrain_loss: 0.0126\tval_loss: 0.0069\tval_auroc: 0.9208\tval_avpr: 0.9792\n",
      "## Epoch 4\ttrain_loss: 0.0077\tval_loss: 0.0052\tval_auroc: 0.9542\tval_avpr: 0.9893\n",
      "## Epoch 5\ttrain_loss: 0.0052\tval_loss: 0.0042\tval_auroc: 0.9667\tval_avpr: 0.9927\n",
      "## Epoch 6\ttrain_loss: 0.0037\tval_loss: 0.0038\tval_auroc: 0.9708\tval_avpr: 0.9938\n",
      "## Epoch 7\ttrain_loss: 0.0026\tval_loss: 0.0037\tval_auroc: 0.9562\tval_avpr: 0.9899\n",
      "## Epoch 8\ttrain_loss: 0.0022\tval_loss: 0.0034\tval_auroc: 0.9604\tval_avpr: 0.9909\n",
      "## Epoch 9\ttrain_loss: 0.0015\tval_loss: 0.0037\tval_auroc: 0.9542\tval_avpr: 0.9887\n",
      "## Epoch 10\ttrain_loss: 0.0011\tval_loss: 0.0029\tval_auroc: 0.9771\tval_avpr: 0.9951\n",
      "## Epoch 11\ttrain_loss: 0.0010\tval_loss: 0.0027\tval_auroc: 0.9833\tval_avpr: 0.9965\n",
      "## Epoch 12\ttrain_loss: 0.0007\tval_loss: 0.0026\tval_auroc: 0.9833\tval_avpr: 0.9966\n",
      "## Epoch 13\ttrain_loss: 0.0006\tval_loss: 0.0030\tval_auroc: 0.9792\tval_avpr: 0.9955\n",
      "## Epoch 14\ttrain_loss: 0.0008\tval_loss: 0.0031\tval_auroc: 0.9771\tval_avpr: 0.9951\n",
      "## Epoch 15\ttrain_loss: 0.0005\tval_loss: 0.0027\tval_auroc: 0.9771\tval_avpr: 0.9951\n",
      "## Epoch 16\ttrain_loss: 0.0006\tval_loss: 0.0026\tval_auroc: 0.9813\tval_avpr: 0.9960\n",
      "## Epoch 17\ttrain_loss: 0.0006\tval_loss: 0.0028\tval_auroc: 0.9792\tval_avpr: 0.9955\n",
      "## Epoch 18\ttrain_loss: 0.0005\tval_loss: 0.0026\tval_auroc: 0.9813\tval_avpr: 0.9960\n",
      "## Epoch 19\ttrain_loss: 0.0005\tval_loss: 0.0025\tval_auroc: 0.9813\tval_avpr: 0.9960\n",
      "## Epoch 20\ttrain_loss: 0.0005\tval_loss: 0.0026\tval_auroc: 0.9813\tval_avpr: 0.9960\n",
      "## Epoch 21\ttrain_loss: 0.0004\tval_loss: 0.0027\tval_auroc: 0.9792\tval_avpr: 0.9955\n",
      "## Epoch 22\ttrain_loss: 0.0004\tval_loss: 0.0027\tval_auroc: 0.9813\tval_avpr: 0.9960\n",
      "## Epoch 23\ttrain_loss: 0.0004\tval_loss: 0.0028\tval_auroc: 0.9750\tval_avpr: 0.9946\n",
      "## Epoch 24\ttrain_loss: 0.0004\tval_loss: 0.0027\tval_auroc: 0.9792\tval_avpr: 0.9955\n",
      "## Epoch 25\ttrain_loss: 0.0004\tval_loss: 0.0026\tval_auroc: 0.9813\tval_avpr: 0.9960\n",
      "test_loss: 0.0015\n",
      "test_auroc: 0.9951\n",
      "test_avpr: 0.9986\n"
     ]
    }
   ],
   "source": [
    "model, optimiser, lr_scheduler = model_factory()\n",
    "\n",
    "val_loss, val_auroc, val_avpr = evaluate(model, val_loader, loss_fn)\n",
    "print(\n",
    "    f\"## Epoch 0\\t\"\n",
    "    f\"train_loss: ------\\t\"\n",
    "    f\"val_loss: {val_loss:.4f}\\t\"\n",
    "    f\"val_auroc: {val_auroc:.4f}\\t\"\n",
    "    f\"val_avpr: {val_avpr:.4f}\"\n",
    ")\n",
    "\n",
    "for epoch in range(epochs):\n",
    "    model = train_one_epoch(model, train_loader, val_loader, optimiser, lr_scheduler, loss_fn, epoch)\n",
    "\n",
    "test_loss, test_auroc, test_avpr = evaluate(model, test_loader, loss_fn)\n",
    "print(\n",
    "    f\"test_loss: {test_loss:.4f}\\n\"\n",
    "    f\"test_auroc: {test_auroc:.4f}\\n\"\n",
    "    f\"test_avpr: {test_avpr:.4f}\"\n",
    ")"
   ]
  },
  {
   "cell_type": "markdown",
   "metadata": {},
   "source": [
    "Running on a server-grade machine with 128 CPUs, the training took just 1.6s, reaching AUROC on the test set of 0.9951. As for the summer 2024, this is better than SoTA of 0.989. Pretty good!"
   ]
  },
  {
   "cell_type": "markdown",
   "metadata": {},
   "source": [
    "## Step 4: Improvements\n",
    "\n",
    "The result can be further improved. One problem is that the accuracy is quite sensitive to both the train-val splitting (reminder - we use scaffold splitting strategy) and the weight initialisation. Let's visualise the distribution of validation scores by training a few models:"
   ]
  },
  {
   "cell_type": "code",
   "execution_count": 29,
   "metadata": {},
   "outputs": [],
   "source": [
    "def dataloader_factory(seed):\n",
    "    mols_train, mols_val = admet.get_train_valid_split(benchmark=DATASET_NAME, split_type='scaffold', seed=seed)\n",
    "\n",
    "    mols_val['Embedding'] = featuriser(list(mols_val['Drug']))\n",
    "    mols_train['Embedding'] = featuriser(list(mols_train['Drug']))\n",
    "\n",
    "    val_loader = DataLoader(AdmetDataset(mols_val), batch_size=128, shuffle=False)\n",
    "    train_loader = DataLoader(AdmetDataset(mols_train), batch_size=32, shuffle=True)\n",
    "\n",
    "    return val_loader, train_loader"
   ]
  },
  {
   "cell_type": "code",
   "execution_count": 31,
   "metadata": {},
   "outputs": [
    {
     "data": {
      "image/png": "[encoded data removed]",
      "text/plain": [
       "<Figure size 640x480 with 1 Axes>"
      ]
     },
     "metadata": {},
     "output_type": "display_data"
    }
   ],
   "source": [
    "from contextlib import redirect_stdout, redirect_stderr# suppress some stdout for better readability\n",
    "import matplotlib.pyplot as plt\n",
    "from random import randint\n",
    "import os\n",
    "\n",
    "results = []\n",
    "repeats = 50\n",
    "\n",
    "for _ in range(repeats):\n",
    "    with open(os.devnull, 'w') as fnull, redirect_stdout(fnull), redirect_stderr(fnull): # suppress output\n",
    "        val_loader, train_loader = dataloader_factory(randint(0, 9999))\n",
    "    model, optimiser, lr_scheduler = model_factory()\n",
    "    for epoch in range(epochs):\n",
    "        model = train_one_epoch(model, train_loader, val_loader, optimiser, lr_scheduler, loss_fn, epoch, eval=False)\n",
    "    _, auroc, _ = evaluate(model, val_loader, loss_fn)\n",
    "    results.append(auroc)\n",
    "\n",
    "plt.hist(results, bins=18)\n",
    "plt.xlabel('AUROC')\n",
    "plt.ylabel('Frequency')\n",
    "plt.title('Distribution of AUROC results on validation split')\n",
    "plt.show()"
   ]
  },
  {
   "cell_type": "markdown",
   "metadata": {},
   "source": [
    "As we can see, the scores can vary quite significantly, ranging from <0.9 to a perfect score.\n",
    "\n",
    "To make the prediction more robust, we adapt two techniques:\n",
    "\n",
    "- Ensembling models trained on different folds of train-val data. Since the training is so fast, fitting a few addtional models is not a big deal. The train-val splitting method is provided by TDC.\n",
    "\n",
    "- Rather than choosing the model at the last epoch, we will use best validation loss to decide which one to choose.\n",
    "\n",
    "We already implemented a `dataloader_factory()` method that creates a new training and validation dataloader for each fold. Now, we will also build a method for ensemble-based evaluation, that uses a list of models to caculate the average logits for the prediction."
   ]
  },
  {
   "cell_type": "code",
   "execution_count": 32,
   "metadata": {},
   "outputs": [],
   "source": [
    "import torch\n",
    "from sklearn.metrics import roc_auc_score, average_precision_score\n",
    "\n",
    "def evaluate_ensemble(predictors, dataloader, loss_fn):\n",
    "    total_loss = 0\n",
    "    all_probs = []\n",
    "    all_targets = []\n",
    "\n",
    "    with torch.no_grad():\n",
    "        \n",
    "        for inputs, targets in dataloader:\n",
    "            model_outputs = [predictor(inputs).squeeze() for predictor in predictors]\n",
    "            averaged_output = torch.sigmoid(torch.mean(torch.stack(model_outputs), dim=0))\n",
    "\n",
    "            loss = loss_fn(averaged_output, targets)\n",
    "            total_loss += loss.item()\n",
    "\n",
    "            all_probs.extend(averaged_output.tolist())\n",
    "            all_targets.extend(targets.tolist())\n",
    "\n",
    "    loss = total_loss / len(all_probs)\n",
    "    return loss, roc_auc_score(all_targets, all_probs), average_precision_score(all_targets, all_probs)"
   ]
  },
  {
   "cell_type": "markdown",
   "metadata": {},
   "source": [
    "Finally, let's see how much better our model gets!"
   ]
  },
  {
   "cell_type": "code",
   "execution_count": 35,
   "metadata": {},
   "outputs": [
    {
     "name": "stdout",
     "output_type": "stream",
     "text": [
      "# Fold 1 / 5\n",
      "## Epoch 1\ttrain_loss: 0.0195\tval_loss: 0.0112\tval_auroc: 0.3277\tval_avpr: 0.8480\n",
      "## Epoch 2\ttrain_loss: 0.0172\tval_loss: 0.0091\tval_auroc: 0.7815\tval_avpr: 0.9616\n",
      "## Epoch 3\ttrain_loss: 0.0117\tval_loss: 0.0059\tval_auroc: 0.9160\tval_avpr: 0.9873\n",
      "## Epoch 4\ttrain_loss: 0.0073\tval_loss: 0.0041\tval_auroc: 0.9524\tval_avpr: 0.9931\n",
      "## Epoch 5\ttrain_loss: 0.0049\tval_loss: 0.0033\tval_auroc: 0.9636\tval_avpr: 0.9951\n",
      "## Epoch 6\ttrain_loss: 0.0036\tval_loss: 0.0033\tval_auroc: 0.9580\tval_avpr: 0.9943\n",
      "## Epoch 7\ttrain_loss: 0.0023\tval_loss: 0.0028\tval_auroc: 0.9720\tval_avpr: 0.9964\n",
      "## Epoch 8\ttrain_loss: 0.0021\tval_loss: 0.0026\tval_auroc: 0.9776\tval_avpr: 0.9971\n",
      "## Epoch 9\ttrain_loss: 0.0016\tval_loss: 0.0027\tval_auroc: 0.9720\tval_avpr: 0.9963\n",
      "## Epoch 10\ttrain_loss: 0.0010\tval_loss: 0.0025\tval_auroc: 0.9748\tval_avpr: 0.9967\n",
      "## Epoch 11\ttrain_loss: 0.0008\tval_loss: 0.0022\tval_auroc: 0.9776\tval_avpr: 0.9971\n",
      "## Epoch 12\ttrain_loss: 0.0007\tval_loss: 0.0022\tval_auroc: 0.9804\tval_avpr: 0.9974\n",
      "## Epoch 13\ttrain_loss: 0.0007\tval_loss: 0.0026\tval_auroc: 0.9888\tval_avpr: 0.9986\n",
      "## Epoch 14\ttrain_loss: 0.0006\tval_loss: 0.0022\tval_auroc: 0.9776\tval_avpr: 0.9971\n",
      "## Epoch 15\ttrain_loss: 0.0006\tval_loss: 0.0022\tval_auroc: 0.9776\tval_avpr: 0.9971\n",
      "## Epoch 16\ttrain_loss: 0.0005\tval_loss: 0.0021\tval_auroc: 0.9804\tval_avpr: 0.9974\n",
      "## Epoch 17\ttrain_loss: 0.0005\tval_loss: 0.0020\tval_auroc: 0.9804\tval_avpr: 0.9974\n",
      "## Epoch 18\ttrain_loss: 0.0005\tval_loss: 0.0020\tval_auroc: 0.9804\tval_avpr: 0.9974\n",
      "## Epoch 19\ttrain_loss: 0.0004\tval_loss: 0.0020\tval_auroc: 0.9804\tval_avpr: 0.9974\n",
      "## Epoch 20\ttrain_loss: 0.0004\tval_loss: 0.0020\tval_auroc: 0.9804\tval_avpr: 0.9974\n",
      "## Epoch 21\ttrain_loss: 0.0004\tval_loss: 0.0020\tval_auroc: 0.9832\tval_avpr: 0.9978\n",
      "## Epoch 22\ttrain_loss: 0.0003\tval_loss: 0.0020\tval_auroc: 0.9804\tval_avpr: 0.9974\n",
      "## Epoch 23\ttrain_loss: 0.0004\tval_loss: 0.0020\tval_auroc: 0.9832\tval_avpr: 0.9978\n",
      "## Epoch 24\ttrain_loss: 0.0006\tval_loss: 0.0020\tval_auroc: 0.9804\tval_avpr: 0.9974\n",
      "## Epoch 25\ttrain_loss: 0.0004\tval_loss: 0.0020\tval_auroc: 0.9804\tval_avpr: 0.9974\n",
      "# Fold 2 / 5\n",
      "## Epoch 1\ttrain_loss: 0.0196\tval_loss: 0.0098\tval_auroc: 0.3132\tval_avpr: 0.8523\n",
      "## Epoch 2\ttrain_loss: 0.0169\tval_loss: 0.0084\tval_auroc: 0.4151\tval_avpr: 0.9037\n",
      "## Epoch 3\ttrain_loss: 0.0117\tval_loss: 0.0059\tval_auroc: 0.8830\tval_avpr: 0.9878\n",
      "## Epoch 4\ttrain_loss: 0.0076\tval_loss: 0.0037\tval_auroc: 0.9358\tval_avpr: 0.9937\n",
      "## Epoch 5\ttrain_loss: 0.0055\tval_loss: 0.0030\tval_auroc: 0.9509\tval_avpr: 0.9951\n",
      "## Epoch 6\ttrain_loss: 0.0038\tval_loss: 0.0026\tval_auroc: 0.9660\tval_avpr: 0.9968\n",
      "## Epoch 7\ttrain_loss: 0.0028\tval_loss: 0.0024\tval_auroc: 0.9698\tval_avpr: 0.9972\n",
      "## Epoch 8\ttrain_loss: 0.0020\tval_loss: 0.0021\tval_auroc: 0.9811\tval_avpr: 0.9982\n",
      "## Epoch 9\ttrain_loss: 0.0013\tval_loss: 0.0021\tval_auroc: 0.9736\tval_avpr: 0.9976\n",
      "## Epoch 10\ttrain_loss: 0.0012\tval_loss: 0.0019\tval_auroc: 0.9811\tval_avpr: 0.9983\n",
      "## Epoch 11\ttrain_loss: 0.0009\tval_loss: 0.0018\tval_auroc: 0.9849\tval_avpr: 0.9986\n",
      "## Epoch 12\ttrain_loss: 0.0009\tval_loss: 0.0018\tval_auroc: 0.9811\tval_avpr: 0.9983\n",
      "## Epoch 13\ttrain_loss: 0.0008\tval_loss: 0.0017\tval_auroc: 0.9849\tval_avpr: 0.9986\n",
      "## Epoch 14\ttrain_loss: 0.0006\tval_loss: 0.0017\tval_auroc: 0.9887\tval_avpr: 0.9990\n",
      "## Epoch 15\ttrain_loss: 0.0005\tval_loss: 0.0017\tval_auroc: 0.9887\tval_avpr: 0.9990\n",
      "## Epoch 16\ttrain_loss: 0.0006\tval_loss: 0.0019\tval_auroc: 0.9887\tval_avpr: 0.9990\n",
      "## Epoch 17\ttrain_loss: 0.0005\tval_loss: 0.0017\tval_auroc: 0.9849\tval_avpr: 0.9986\n",
      "## Epoch 18\ttrain_loss: 0.0005\tval_loss: 0.0018\tval_auroc: 0.9849\tval_avpr: 0.9986\n",
      "## Epoch 19\ttrain_loss: 0.0004\tval_loss: 0.0018\tval_auroc: 0.9849\tval_avpr: 0.9986\n",
      "## Epoch 20\ttrain_loss: 0.0004\tval_loss: 0.0017\tval_auroc: 0.9849\tval_avpr: 0.9986\n",
      "## Epoch 21\ttrain_loss: 0.0004\tval_loss: 0.0018\tval_auroc: 0.9849\tval_avpr: 0.9986\n",
      "## Epoch 22\ttrain_loss: 0.0004\tval_loss: 0.0018\tval_auroc: 0.9849\tval_avpr: 0.9986\n",
      "## Epoch 23\ttrain_loss: 0.0005\tval_loss: 0.0017\tval_auroc: 0.9849\tval_avpr: 0.9986\n",
      "## Epoch 24\ttrain_loss: 0.0004\tval_loss: 0.0017\tval_auroc: 0.9849\tval_avpr: 0.9986\n",
      "## Epoch 25\ttrain_loss: 0.0004\tval_loss: 0.0016\tval_auroc: 0.9849\tval_avpr: 0.9986\n",
      "# Fold 3 / 5\n",
      "## Epoch 1\ttrain_loss: 0.0241\tval_loss: 0.0135\tval_auroc: 0.5641\tval_avpr: 0.9059\n",
      "## Epoch 2\ttrain_loss: 0.0212\tval_loss: 0.0112\tval_auroc: 0.7853\tval_avpr: 0.9595\n",
      "## Epoch 3\ttrain_loss: 0.0142\tval_loss: 0.0072\tval_auroc: 0.9199\tval_avpr: 0.9890\n",
      "## Epoch 4\ttrain_loss: 0.0087\tval_loss: 0.0042\tval_auroc: 0.9712\tval_avpr: 0.9966\n",
      "## Epoch 5\ttrain_loss: 0.0057\tval_loss: 0.0030\tval_auroc: 0.9840\tval_avpr: 0.9982\n",
      "## Epoch 6\ttrain_loss: 0.0040\tval_loss: 0.0028\tval_auroc: 0.9808\tval_avpr: 0.9979\n",
      "## Epoch 7\ttrain_loss: 0.0028\tval_loss: 0.0024\tval_auroc: 0.9872\tval_avpr: 0.9986\n",
      "## Epoch 8\ttrain_loss: 0.0021\tval_loss: 0.0022\tval_auroc: 0.9808\tval_avpr: 0.9978\n",
      "## Epoch 9\ttrain_loss: 0.0016\tval_loss: 0.0021\tval_auroc: 0.9872\tval_avpr: 0.9985\n",
      "## Epoch 10\ttrain_loss: 0.0013\tval_loss: 0.0021\tval_auroc: 0.9840\tval_avpr: 0.9982\n",
      "## Epoch 11\ttrain_loss: 0.0011\tval_loss: 0.0019\tval_auroc: 0.9904\tval_avpr: 0.9989\n",
      "## Epoch 12\ttrain_loss: 0.0016\tval_loss: 0.0017\tval_auroc: 0.9808\tval_avpr: 0.9978\n",
      "## Epoch 13\ttrain_loss: 0.0007\tval_loss: 0.0016\tval_auroc: 0.9872\tval_avpr: 0.9986\n",
      "## Epoch 14\ttrain_loss: 0.0009\tval_loss: 0.0016\tval_auroc: 0.9904\tval_avpr: 0.9989\n",
      "## Epoch 15\ttrain_loss: 0.0008\tval_loss: 0.0017\tval_auroc: 0.9904\tval_avpr: 0.9989\n",
      "## Epoch 16\ttrain_loss: 0.0007\tval_loss: 0.0017\tval_auroc: 0.9840\tval_avpr: 0.9982\n",
      "## Epoch 17\ttrain_loss: 0.0006\tval_loss: 0.0015\tval_auroc: 0.9872\tval_avpr: 0.9985\n",
      "## Epoch 18\ttrain_loss: 0.0005\tval_loss: 0.0015\tval_auroc: 0.9904\tval_avpr: 0.9989\n",
      "## Epoch 19\ttrain_loss: 0.0007\tval_loss: 0.0014\tval_auroc: 0.9904\tval_avpr: 0.9989\n",
      "## Epoch 20\ttrain_loss: 0.0005\tval_loss: 0.0015\tval_auroc: 0.9904\tval_avpr: 0.9989\n",
      "## Epoch 21\ttrain_loss: 0.0006\tval_loss: 0.0014\tval_auroc: 0.9904\tval_avpr: 0.9989\n",
      "## Epoch 22\ttrain_loss: 0.0005\tval_loss: 0.0014\tval_auroc: 0.9904\tval_avpr: 0.9989\n",
      "## Epoch 23\ttrain_loss: 0.0009\tval_loss: 0.0014\tval_auroc: 0.9904\tval_avpr: 0.9989\n",
      "## Epoch 24\ttrain_loss: 0.0004\tval_loss: 0.0015\tval_auroc: 0.9904\tval_avpr: 0.9989\n",
      "## Epoch 25\ttrain_loss: 0.0004\tval_loss: 0.0014\tval_auroc: 0.9904\tval_avpr: 0.9989\n",
      "# Fold 4 / 5\n",
      "## Epoch 1\ttrain_loss: 0.0242\tval_loss: 0.0124\tval_auroc: 0.5370\tval_avpr: 0.9192\n",
      "## Epoch 2\ttrain_loss: 0.0212\tval_loss: 0.0105\tval_auroc: 0.5880\tval_avpr: 0.9397\n",
      "## Epoch 3\ttrain_loss: 0.0140\tval_loss: 0.0069\tval_auroc: 0.8148\tval_avpr: 0.9805\n",
      "## Epoch 4\ttrain_loss: 0.0088\tval_loss: 0.0041\tval_auroc: 0.8565\tval_avpr: 0.9864\n",
      "## Epoch 5\ttrain_loss: 0.0058\tval_loss: 0.0032\tval_auroc: 0.9213\tval_avpr: 0.9938\n",
      "## Epoch 6\ttrain_loss: 0.0040\tval_loss: 0.0025\tval_auroc: 0.9583\tval_avpr: 0.9969\n",
      "## Epoch 7\ttrain_loss: 0.0028\tval_loss: 0.0024\tval_auroc: 0.9722\tval_avpr: 0.9980\n",
      "## Epoch 8\ttrain_loss: 0.0021\tval_loss: 0.0024\tval_auroc: 0.9722\tval_avpr: 0.9980\n",
      "## Epoch 9\ttrain_loss: 0.0016\tval_loss: 0.0022\tval_auroc: 0.9722\tval_avpr: 0.9980\n",
      "## Epoch 10\ttrain_loss: 0.0015\tval_loss: 0.0021\tval_auroc: 0.9815\tval_avpr: 0.9987\n",
      "## Epoch 11\ttrain_loss: 0.0011\tval_loss: 0.0022\tval_auroc: 0.9769\tval_avpr: 0.9983\n",
      "## Epoch 12\ttrain_loss: 0.0010\tval_loss: 0.0023\tval_auroc: 0.9769\tval_avpr: 0.9983\n",
      "## Epoch 13\ttrain_loss: 0.0007\tval_loss: 0.0023\tval_auroc: 0.9769\tval_avpr: 0.9983\n",
      "## Epoch 14\ttrain_loss: 0.0007\tval_loss: 0.0022\tval_auroc: 0.9769\tval_avpr: 0.9983\n",
      "## Epoch 15\ttrain_loss: 0.0006\tval_loss: 0.0021\tval_auroc: 0.9815\tval_avpr: 0.9987\n",
      "## Epoch 16\ttrain_loss: 0.0006\tval_loss: 0.0021\tval_auroc: 0.9769\tval_avpr: 0.9983\n",
      "## Epoch 17\ttrain_loss: 0.0007\tval_loss: 0.0021\tval_auroc: 0.9769\tval_avpr: 0.9983\n",
      "## Epoch 18\ttrain_loss: 0.0007\tval_loss: 0.0021\tval_auroc: 0.9769\tval_avpr: 0.9983\n",
      "## Epoch 19\ttrain_loss: 0.0004\tval_loss: 0.0021\tval_auroc: 0.9815\tval_avpr: 0.9987\n",
      "## Epoch 20\ttrain_loss: 0.0004\tval_loss: 0.0021\tval_auroc: 0.9769\tval_avpr: 0.9983\n",
      "## Epoch 21\ttrain_loss: 0.0004\tval_loss: 0.0021\tval_auroc: 0.9815\tval_avpr: 0.9987\n",
      "## Epoch 22\ttrain_loss: 0.0004\tval_loss: 0.0021\tval_auroc: 0.9769\tval_avpr: 0.9983\n",
      "## Epoch 23\ttrain_loss: 0.0004\tval_loss: 0.0021\tval_auroc: 0.9815\tval_avpr: 0.9987\n",
      "## Epoch 24\ttrain_loss: 0.0004\tval_loss: 0.0021\tval_auroc: 0.9815\tval_avpr: 0.9987\n",
      "## Epoch 25\ttrain_loss: 0.0005\tval_loss: 0.0021\tval_auroc: 0.9815\tval_avpr: 0.9987\n",
      "# Fold 5 / 5\n",
      "## Epoch 1\ttrain_loss: 0.0236\tval_loss: 0.0113\tval_auroc: 0.3108\tval_avpr: 0.8229\n",
      "## Epoch 2\ttrain_loss: 0.0205\tval_loss: 0.0093\tval_auroc: 0.4486\tval_avpr: 0.8574\n",
      "## Epoch 3\ttrain_loss: 0.0136\tval_loss: 0.0060\tval_auroc: 0.6466\tval_avpr: 0.9016\n",
      "## Epoch 4\ttrain_loss: 0.0080\tval_loss: 0.0043\tval_auroc: 0.7619\tval_avpr: 0.9576\n",
      "## Epoch 5\ttrain_loss: 0.0052\tval_loss: 0.0037\tval_auroc: 0.8396\tval_avpr: 0.9763\n",
      "## Epoch 6\ttrain_loss: 0.0038\tval_loss: 0.0033\tval_auroc: 0.9148\tval_avpr: 0.9889\n",
      "## Epoch 7\ttrain_loss: 0.0027\tval_loss: 0.0031\tval_auroc: 0.9273\tval_avpr: 0.9904\n",
      "## Epoch 8\ttrain_loss: 0.0023\tval_loss: 0.0030\tval_auroc: 0.9223\tval_avpr: 0.9895\n",
      "## Epoch 9\ttrain_loss: 0.0017\tval_loss: 0.0029\tval_auroc: 0.9424\tval_avpr: 0.9926\n",
      "## Epoch 10\ttrain_loss: 0.0014\tval_loss: 0.0028\tval_auroc: 0.9424\tval_avpr: 0.9925\n",
      "## Epoch 11\ttrain_loss: 0.0011\tval_loss: 0.0027\tval_auroc: 0.9424\tval_avpr: 0.9924\n",
      "## Epoch 12\ttrain_loss: 0.0008\tval_loss: 0.0027\tval_auroc: 0.9549\tval_avpr: 0.9943\n",
      "## Epoch 13\ttrain_loss: 0.0007\tval_loss: 0.0026\tval_auroc: 0.9524\tval_avpr: 0.9938\n",
      "## Epoch 14\ttrain_loss: 0.0007\tval_loss: 0.0026\tval_auroc: 0.9398\tval_avpr: 0.9921\n",
      "## Epoch 15\ttrain_loss: 0.0007\tval_loss: 0.0028\tval_auroc: 0.9499\tval_avpr: 0.9934\n",
      "## Epoch 16\ttrain_loss: 0.0007\tval_loss: 0.0026\tval_auroc: 0.9524\tval_avpr: 0.9938\n",
      "## Epoch 17\ttrain_loss: 0.0008\tval_loss: 0.0025\tval_auroc: 0.9699\tval_avpr: 0.9963\n",
      "## Epoch 18\ttrain_loss: 0.0008\tval_loss: 0.0024\tval_auroc: 0.9649\tval_avpr: 0.9956\n",
      "## Epoch 19\ttrain_loss: 0.0007\tval_loss: 0.0025\tval_auroc: 0.9649\tval_avpr: 0.9956\n",
      "## Epoch 20\ttrain_loss: 0.0005\tval_loss: 0.0027\tval_auroc: 0.9649\tval_avpr: 0.9956\n",
      "## Epoch 21\ttrain_loss: 0.0006\tval_loss: 0.0029\tval_auroc: 0.9649\tval_avpr: 0.9957\n",
      "## Epoch 22\ttrain_loss: 0.0005\tval_loss: 0.0028\tval_auroc: 0.9624\tval_avpr: 0.9953\n",
      "## Epoch 23\ttrain_loss: 0.0005\tval_loss: 0.0028\tval_auroc: 0.9599\tval_avpr: 0.9950\n",
      "## Epoch 24\ttrain_loss: 0.0005\tval_loss: 0.0029\tval_auroc: 0.9599\tval_avpr: 0.9950\n",
      "## Epoch 25\ttrain_loss: 0.0004\tval_loss: 0.0028\tval_auroc: 0.9574\tval_avpr: 0.9946\n",
      "test_loss: 0.0012\n",
      "test_auroc: 0.9975\n",
      "test_avpr: 0.9993\n"
     ]
    }
   ],
   "source": [
    "from copy import deepcopy\n",
    "\n",
    "seeds = [1, 2, 3, 4, 5]\n",
    "\n",
    "best_models = []\n",
    "\n",
    "for fold_i, seed in enumerate(seeds):\n",
    "    print(f\"# Fold {fold_i +1} / {len(seeds)}\")\n",
    "    with open(os.devnull, 'w') as fnull, redirect_stdout(fnull), redirect_stderr(fnull): # suppress output\n",
    "        val_loader, train_loader = dataloader_factory(seed)\n",
    "    model, optimiser, lr_scheduler = model_factory()\n",
    "\n",
    "    best_epoch = {\"model\": None, \"result\": None}\n",
    "    for epoch in range(epochs):\n",
    "        model = train_one_epoch(model, train_loader, val_loader, optimiser, lr_scheduler, loss_fn, epoch)\n",
    "        val_loss, _, _ = evaluate(model, val_loader, loss_fn)\n",
    "\n",
    "        if best_epoch['model'] is None:\n",
    "            best_epoch['model'] = deepcopy(model)\n",
    "            best_epoch['result'] = deepcopy(val_loss)\n",
    "        else:\n",
    "            best_epoch['model'] = best_epoch['model'] if best_epoch['result'] <= val_loss else deepcopy(model)\n",
    "            best_epoch['result'] = best_epoch['result'] if best_epoch['result'] <= val_loss else deepcopy(val_loss)\n",
    "\n",
    "    best_models.append(deepcopy(best_epoch['model']))\n",
    "\n",
    "test_loss, test_auroc, test_avpr = evaluate_ensemble(best_models, test_loader, loss_fn)\n",
    "print(\n",
    "    f\"test_loss: {test_loss:.4f}\\n\"\n",
    "    f\"test_auroc: {test_auroc:.4f}\\n\"\n",
    "    f\"test_avpr: {test_avpr:.4f}\"\n",
    ")"
   ]
  },
  {
   "cell_type": "markdown",
   "metadata": {},
   "source": [
    "In about 15s an ensemble was build reaching the performance of 0.9975 in AUROC on the test set. This is slightly better than the performance we achieved with a single model, but more importantly, the ensemble is not senstitive to which part of the data is used for validation, and is less sensitive to the intialisation because we intialise n models getting somewhere close to an average performance.\n",
    "\n",
    "This score is better than the SoTA, showcasing how powerful MiniMol is in featurising molecules for downstream biological tasks."
   ]
  }
 ],
 "metadata": {
  "kernelspec": {
   "display_name": "minimol",
   "language": "python",
   "name": "python3"
  },
  "language_info": {
   "codemirror_mode": {
    "name": "ipython",
    "version": 3
   },
   "file_extension": ".py",
   "mimetype": "text/x-python",
   "name": "python",
   "nbconvert_exporter": "python",
   "pygments_lexer": "ipython3",
   "version": "3.12.4"
  }
 },
 "nbformat": 4,
 "nbformat_minor": 2
}
